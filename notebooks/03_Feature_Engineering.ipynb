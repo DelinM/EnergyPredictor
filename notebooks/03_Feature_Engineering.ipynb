{
 "cells": [
  {
   "cell_type": "markdown",
   "id": "162335a4",
   "metadata": {},
   "source": [
    "# 03 Feature Engineering - Energy Prediction<a id=''></a>"
   ]
  },
  {
   "cell_type": "markdown",
   "id": "82932b60",
   "metadata": {},
   "source": [
    "## 1. Introduction <a id='1'></a>"
   ]
  },
  {
   "cell_type": "markdown",
   "id": "9823bb90",
   "metadata": {},
   "source": [
    "The main task for the notebook is to perform feature engineering for the cleaned and merged datatset."
   ]
  },
  {
   "cell_type": "markdown",
   "id": "ff3b0fb5",
   "metadata": {},
   "source": [
    "## 2. Feature Engineering <a id='2'></a>"
   ]
  },
  {
   "cell_type": "markdown",
   "id": "e4a616e9",
   "metadata": {},
   "source": [
    "### 2.1 Imports <a id='2.1'></a>"
   ]
  },
  {
   "cell_type": "code",
   "execution_count": 46,
   "id": "5a2ee9a7",
   "metadata": {},
   "outputs": [],
   "source": [
    "import numpy as np\n",
    "import pandas as pd\n",
    "import matplotlib.pyplot as plt\n",
    "import seaborn as sns\n",
    "import os\n",
    "\n",
    "import matplotlib as mpl\n",
    "import matplotlib.pylab as pylab\n",
    "import matplotlib.patches as mpatches\n",
    "from matplotlib.gridspec import GridSpec\n",
    "\n",
    "# Metrics & Models\n",
    "from sklearn.preprocessing import LabelEncoder\n",
    "from sklearn.model_selection import train_test_split\n",
    "from sklearn import tree, metrics\n",
    "%matplotlib inline\n",
    "\n",
    "import pandas as pd\n",
    "import numpy as np\n",
    "import os\n",
    "import pickle\n",
    "import matplotlib.pyplot as plt\n",
    "import seaborn as sns\n",
    "from sklearn import __version__ as sklearn_version\n",
    "from sklearn.decomposition import PCA\n",
    "from sklearn.preprocessing import scale\n",
    "from sklearn.model_selection import train_test_split, cross_validate, GridSearchCV, learning_curve\n",
    "from sklearn.preprocessing import StandardScaler, MinMaxScaler\n",
    "from sklearn.dummy import DummyRegressor\n",
    "from sklearn.linear_model import LinearRegression\n",
    "from sklearn.ensemble import RandomForestRegressor\n",
    "from sklearn.metrics import r2_score, mean_squared_error, mean_absolute_error\n",
    "from sklearn.pipeline import make_pipeline\n",
    "from sklearn.impute import SimpleImputer\n",
    "from sklearn.feature_selection import SelectKBest, f_regression\n",
    "import datetime"
   ]
  },
  {
   "cell_type": "code",
   "execution_count": 47,
   "id": "ebc25eed",
   "metadata": {},
   "outputs": [],
   "source": [
    "path = '../data/'\n",
    "file_name = 'mlmodeldata.csv'\n",
    "full_path = path + file_name\n",
    "df = pd.read_csv(full_path, index_col=[0])"
   ]
  },
  {
   "cell_type": "code",
   "execution_count": 48,
   "id": "0562a4d0",
   "metadata": {},
   "outputs": [
    {
     "data": {
      "text/html": [
       "<div>\n",
       "<style scoped>\n",
       "    .dataframe tbody tr th:only-of-type {\n",
       "        vertical-align: middle;\n",
       "    }\n",
       "\n",
       "    .dataframe tbody tr th {\n",
       "        vertical-align: top;\n",
       "    }\n",
       "\n",
       "    .dataframe thead th {\n",
       "        text-align: right;\n",
       "    }\n",
       "</style>\n",
       "<table border=\"1\" class=\"dataframe\">\n",
       "  <thead>\n",
       "    <tr style=\"text-align: right;\">\n",
       "      <th></th>\n",
       "      <th>building_id</th>\n",
       "      <th>loc_id</th>\n",
       "      <th>subUsage</th>\n",
       "      <th>sqm</th>\n",
       "      <th>Unnamed: 0_x</th>\n",
       "      <th>index</th>\n",
       "      <th>timestamp</th>\n",
       "      <th>meter_reading</th>\n",
       "      <th>Unnamed: 0_y</th>\n",
       "      <th>site_id</th>\n",
       "      <th>airTemperature</th>\n",
       "      <th>dewTemperature</th>\n",
       "      <th>seaLvlPressure</th>\n",
       "      <th>windDirection</th>\n",
       "      <th>windSpeed</th>\n",
       "    </tr>\n",
       "  </thead>\n",
       "  <tbody>\n",
       "    <tr>\n",
       "      <th>0</th>\n",
       "      <td>789</td>\n",
       "      <td>7.0</td>\n",
       "      <td>College Classroom</td>\n",
       "      <td>6000.0</td>\n",
       "      <td>0</td>\n",
       "      <td>0</td>\n",
       "      <td>2016-01-01 00:00:00</td>\n",
       "      <td>516.43</td>\n",
       "      <td>17544</td>\n",
       "      <td>Ottawa</td>\n",
       "      <td>-2.2</td>\n",
       "      <td>-3.6</td>\n",
       "      <td>1014.5</td>\n",
       "      <td>270.0</td>\n",
       "      <td>2.1</td>\n",
       "    </tr>\n",
       "    <tr>\n",
       "      <th>1</th>\n",
       "      <td>789</td>\n",
       "      <td>7.0</td>\n",
       "      <td>College Classroom</td>\n",
       "      <td>6000.0</td>\n",
       "      <td>1</td>\n",
       "      <td>1</td>\n",
       "      <td>2016-01-01 01:00:00</td>\n",
       "      <td>519.40</td>\n",
       "      <td>17545</td>\n",
       "      <td>Ottawa</td>\n",
       "      <td>-2.3</td>\n",
       "      <td>-3.8</td>\n",
       "      <td>1014.5</td>\n",
       "      <td>260.0</td>\n",
       "      <td>2.1</td>\n",
       "    </tr>\n",
       "    <tr>\n",
       "      <th>2</th>\n",
       "      <td>789</td>\n",
       "      <td>7.0</td>\n",
       "      <td>College Classroom</td>\n",
       "      <td>6000.0</td>\n",
       "      <td>2</td>\n",
       "      <td>2</td>\n",
       "      <td>2016-01-01 02:00:00</td>\n",
       "      <td>501.68</td>\n",
       "      <td>17546</td>\n",
       "      <td>Ottawa</td>\n",
       "      <td>-2.8</td>\n",
       "      <td>-4.0</td>\n",
       "      <td>1014.0</td>\n",
       "      <td>260.0</td>\n",
       "      <td>1.5</td>\n",
       "    </tr>\n",
       "    <tr>\n",
       "      <th>3</th>\n",
       "      <td>789</td>\n",
       "      <td>7.0</td>\n",
       "      <td>College Classroom</td>\n",
       "      <td>6000.0</td>\n",
       "      <td>3</td>\n",
       "      <td>3</td>\n",
       "      <td>2016-01-01 03:00:00</td>\n",
       "      <td>507.87</td>\n",
       "      <td>17547</td>\n",
       "      <td>Ottawa</td>\n",
       "      <td>-3.0</td>\n",
       "      <td>-3.8</td>\n",
       "      <td>1014.0</td>\n",
       "      <td>260.0</td>\n",
       "      <td>1.5</td>\n",
       "    </tr>\n",
       "    <tr>\n",
       "      <th>4</th>\n",
       "      <td>789</td>\n",
       "      <td>7.0</td>\n",
       "      <td>College Classroom</td>\n",
       "      <td>6000.0</td>\n",
       "      <td>4</td>\n",
       "      <td>4</td>\n",
       "      <td>2016-01-01 04:00:00</td>\n",
       "      <td>509.45</td>\n",
       "      <td>17548</td>\n",
       "      <td>Ottawa</td>\n",
       "      <td>-3.3</td>\n",
       "      <td>-3.8</td>\n",
       "      <td>1013.5</td>\n",
       "      <td>230.0</td>\n",
       "      <td>1.0</td>\n",
       "    </tr>\n",
       "  </tbody>\n",
       "</table>\n",
       "</div>"
      ],
      "text/plain": [
       "   building_id  loc_id           subUsage     sqm  Unnamed: 0_x  index  \\\n",
       "0          789     7.0  College Classroom  6000.0             0      0   \n",
       "1          789     7.0  College Classroom  6000.0             1      1   \n",
       "2          789     7.0  College Classroom  6000.0             2      2   \n",
       "3          789     7.0  College Classroom  6000.0             3      3   \n",
       "4          789     7.0  College Classroom  6000.0             4      4   \n",
       "\n",
       "             timestamp  meter_reading  Unnamed: 0_y site_id  airTemperature  \\\n",
       "0  2016-01-01 00:00:00         516.43         17544  Ottawa            -2.2   \n",
       "1  2016-01-01 01:00:00         519.40         17545  Ottawa            -2.3   \n",
       "2  2016-01-01 02:00:00         501.68         17546  Ottawa            -2.8   \n",
       "3  2016-01-01 03:00:00         507.87         17547  Ottawa            -3.0   \n",
       "4  2016-01-01 04:00:00         509.45         17548  Ottawa            -3.3   \n",
       "\n",
       "   dewTemperature  seaLvlPressure  windDirection  windSpeed  \n",
       "0            -3.6          1014.5          270.0        2.1  \n",
       "1            -3.8          1014.5          260.0        2.1  \n",
       "2            -4.0          1014.0          260.0        1.5  \n",
       "3            -3.8          1014.0          260.0        1.5  \n",
       "4            -3.8          1013.5          230.0        1.0  "
      ]
     },
     "execution_count": 48,
     "metadata": {},
     "output_type": "execute_result"
    }
   ],
   "source": [
    "df.head()"
   ]
  },
  {
   "cell_type": "code",
   "execution_count": 49,
   "id": "be8cc028",
   "metadata": {},
   "outputs": [],
   "source": [
    "# columns to be removed\n",
    "columns = ['loc_id', 'Unnamed: 0_x', 'index', 'Unnamed: 0_y']\n",
    "\n",
    "df = df.drop(columns=columns)"
   ]
  },
  {
   "cell_type": "code",
   "execution_count": 50,
   "id": "0d645505",
   "metadata": {},
   "outputs": [
    {
     "data": {
      "text/html": [
       "<div>\n",
       "<style scoped>\n",
       "    .dataframe tbody tr th:only-of-type {\n",
       "        vertical-align: middle;\n",
       "    }\n",
       "\n",
       "    .dataframe tbody tr th {\n",
       "        vertical-align: top;\n",
       "    }\n",
       "\n",
       "    .dataframe thead th {\n",
       "        text-align: right;\n",
       "    }\n",
       "</style>\n",
       "<table border=\"1\" class=\"dataframe\">\n",
       "  <thead>\n",
       "    <tr style=\"text-align: right;\">\n",
       "      <th></th>\n",
       "      <th>building_id</th>\n",
       "      <th>subUsage</th>\n",
       "      <th>sqm</th>\n",
       "      <th>timestamp</th>\n",
       "      <th>meter_reading</th>\n",
       "      <th>site_id</th>\n",
       "      <th>airTemperature</th>\n",
       "      <th>dewTemperature</th>\n",
       "      <th>seaLvlPressure</th>\n",
       "      <th>windDirection</th>\n",
       "      <th>windSpeed</th>\n",
       "    </tr>\n",
       "  </thead>\n",
       "  <tbody>\n",
       "    <tr>\n",
       "      <th>0</th>\n",
       "      <td>789</td>\n",
       "      <td>College Classroom</td>\n",
       "      <td>6000.0</td>\n",
       "      <td>2016-01-01 00:00:00</td>\n",
       "      <td>516.43</td>\n",
       "      <td>Ottawa</td>\n",
       "      <td>-2.2</td>\n",
       "      <td>-3.6</td>\n",
       "      <td>1014.5</td>\n",
       "      <td>270.0</td>\n",
       "      <td>2.1</td>\n",
       "    </tr>\n",
       "    <tr>\n",
       "      <th>1</th>\n",
       "      <td>789</td>\n",
       "      <td>College Classroom</td>\n",
       "      <td>6000.0</td>\n",
       "      <td>2016-01-01 01:00:00</td>\n",
       "      <td>519.40</td>\n",
       "      <td>Ottawa</td>\n",
       "      <td>-2.3</td>\n",
       "      <td>-3.8</td>\n",
       "      <td>1014.5</td>\n",
       "      <td>260.0</td>\n",
       "      <td>2.1</td>\n",
       "    </tr>\n",
       "    <tr>\n",
       "      <th>2</th>\n",
       "      <td>789</td>\n",
       "      <td>College Classroom</td>\n",
       "      <td>6000.0</td>\n",
       "      <td>2016-01-01 02:00:00</td>\n",
       "      <td>501.68</td>\n",
       "      <td>Ottawa</td>\n",
       "      <td>-2.8</td>\n",
       "      <td>-4.0</td>\n",
       "      <td>1014.0</td>\n",
       "      <td>260.0</td>\n",
       "      <td>1.5</td>\n",
       "    </tr>\n",
       "    <tr>\n",
       "      <th>3</th>\n",
       "      <td>789</td>\n",
       "      <td>College Classroom</td>\n",
       "      <td>6000.0</td>\n",
       "      <td>2016-01-01 03:00:00</td>\n",
       "      <td>507.87</td>\n",
       "      <td>Ottawa</td>\n",
       "      <td>-3.0</td>\n",
       "      <td>-3.8</td>\n",
       "      <td>1014.0</td>\n",
       "      <td>260.0</td>\n",
       "      <td>1.5</td>\n",
       "    </tr>\n",
       "    <tr>\n",
       "      <th>4</th>\n",
       "      <td>789</td>\n",
       "      <td>College Classroom</td>\n",
       "      <td>6000.0</td>\n",
       "      <td>2016-01-01 04:00:00</td>\n",
       "      <td>509.45</td>\n",
       "      <td>Ottawa</td>\n",
       "      <td>-3.3</td>\n",
       "      <td>-3.8</td>\n",
       "      <td>1013.5</td>\n",
       "      <td>230.0</td>\n",
       "      <td>1.0</td>\n",
       "    </tr>\n",
       "  </tbody>\n",
       "</table>\n",
       "</div>"
      ],
      "text/plain": [
       "   building_id           subUsage     sqm            timestamp  meter_reading  \\\n",
       "0          789  College Classroom  6000.0  2016-01-01 00:00:00         516.43   \n",
       "1          789  College Classroom  6000.0  2016-01-01 01:00:00         519.40   \n",
       "2          789  College Classroom  6000.0  2016-01-01 02:00:00         501.68   \n",
       "3          789  College Classroom  6000.0  2016-01-01 03:00:00         507.87   \n",
       "4          789  College Classroom  6000.0  2016-01-01 04:00:00         509.45   \n",
       "\n",
       "  site_id  airTemperature  dewTemperature  seaLvlPressure  windDirection  \\\n",
       "0  Ottawa            -2.2            -3.6          1014.5          270.0   \n",
       "1  Ottawa            -2.3            -3.8          1014.5          260.0   \n",
       "2  Ottawa            -2.8            -4.0          1014.0          260.0   \n",
       "3  Ottawa            -3.0            -3.8          1014.0          260.0   \n",
       "4  Ottawa            -3.3            -3.8          1013.5          230.0   \n",
       "\n",
       "   windSpeed  \n",
       "0        2.1  \n",
       "1        2.1  \n",
       "2        1.5  \n",
       "3        1.5  \n",
       "4        1.0  "
      ]
     },
     "execution_count": 50,
     "metadata": {},
     "output_type": "execute_result"
    }
   ],
   "source": [
    "df.head()"
   ]
  },
  {
   "cell_type": "code",
   "execution_count": 51,
   "id": "edf0dabe",
   "metadata": {},
   "outputs": [
    {
     "name": "stdout",
     "output_type": "stream",
     "text": [
      "<class 'pandas.core.frame.DataFrame'>\n",
      "Int64Index: 349756 entries, 0 to 349755\n",
      "Data columns (total 11 columns):\n",
      " #   Column          Non-Null Count   Dtype  \n",
      "---  ------          --------------   -----  \n",
      " 0   building_id     349756 non-null  int64  \n",
      " 1   subUsage        349756 non-null  object \n",
      " 2   sqm             349756 non-null  float64\n",
      " 3   timestamp       349756 non-null  object \n",
      " 4   meter_reading   349756 non-null  float64\n",
      " 5   site_id         349756 non-null  object \n",
      " 6   airTemperature  336171 non-null  float64\n",
      " 7   dewTemperature  335252 non-null  float64\n",
      " 8   seaLvlPressure  335492 non-null  float64\n",
      " 9   windDirection   336171 non-null  float64\n",
      " 10  windSpeed       336171 non-null  float64\n",
      "dtypes: float64(7), int64(1), object(3)\n",
      "memory usage: 32.0+ MB\n"
     ]
    }
   ],
   "source": [
    "df.info()"
   ]
  },
  {
   "cell_type": "code",
   "execution_count": 52,
   "id": "4b911052",
   "metadata": {},
   "outputs": [],
   "source": [
    "# fill airTemperature,dewTemperature,seaLvlPressure, windDirection, windSpeed missing values with interpolation\n",
    "df.airTemperature.interpolate(method='linear', inplace=True)\n",
    "df.dewTemperature.interpolate(method='linear', inplace=True)\n",
    "df.seaLvlPressure.interpolate(method='linear', inplace=True)\n",
    "df.windDirection.interpolate(method='linear', inplace=True)\n",
    "df.windSpeed.interpolate(method='linear', inplace=True)"
   ]
  },
  {
   "cell_type": "code",
   "execution_count": 53,
   "id": "3352d0c3",
   "metadata": {},
   "outputs": [
    {
     "name": "stdout",
     "output_type": "stream",
     "text": [
      "<class 'pandas.core.frame.DataFrame'>\n",
      "Int64Index: 349756 entries, 0 to 349755\n",
      "Data columns (total 11 columns):\n",
      " #   Column          Non-Null Count   Dtype  \n",
      "---  ------          --------------   -----  \n",
      " 0   building_id     349756 non-null  int64  \n",
      " 1   subUsage        349756 non-null  object \n",
      " 2   sqm             349756 non-null  float64\n",
      " 3   timestamp       349756 non-null  object \n",
      " 4   meter_reading   349756 non-null  float64\n",
      " 5   site_id         349756 non-null  object \n",
      " 6   airTemperature  349756 non-null  float64\n",
      " 7   dewTemperature  349756 non-null  float64\n",
      " 8   seaLvlPressure  349756 non-null  float64\n",
      " 9   windDirection   349756 non-null  float64\n",
      " 10  windSpeed       349756 non-null  float64\n",
      "dtypes: float64(7), int64(1), object(3)\n",
      "memory usage: 32.0+ MB\n"
     ]
    }
   ],
   "source": [
    "df.info()"
   ]
  },
  {
   "cell_type": "code",
   "execution_count": 54,
   "id": "833d312f",
   "metadata": {},
   "outputs": [],
   "source": [
    "df = df[df['meter_reading'] != 0]"
   ]
  },
  {
   "cell_type": "code",
   "execution_count": 55,
   "id": "d04d1d63",
   "metadata": {},
   "outputs": [
    {
     "name": "stdout",
     "output_type": "stream",
     "text": [
      "<class 'pandas.core.frame.DataFrame'>\n",
      "Int64Index: 341735 entries, 0 to 348505\n",
      "Data columns (total 11 columns):\n",
      " #   Column          Non-Null Count   Dtype  \n",
      "---  ------          --------------   -----  \n",
      " 0   building_id     341735 non-null  int64  \n",
      " 1   subUsage        341735 non-null  object \n",
      " 2   sqm             341735 non-null  float64\n",
      " 3   timestamp       341735 non-null  object \n",
      " 4   meter_reading   341735 non-null  float64\n",
      " 5   site_id         341735 non-null  object \n",
      " 6   airTemperature  341735 non-null  float64\n",
      " 7   dewTemperature  341735 non-null  float64\n",
      " 8   seaLvlPressure  341735 non-null  float64\n",
      " 9   windDirection   341735 non-null  float64\n",
      " 10  windSpeed       341735 non-null  float64\n",
      "dtypes: float64(7), int64(1), object(3)\n",
      "memory usage: 31.3+ MB\n"
     ]
    }
   ],
   "source": [
    "df.info()"
   ]
  },
  {
   "cell_type": "code",
   "execution_count": 56,
   "id": "49f52687",
   "metadata": {},
   "outputs": [],
   "source": [
    "# Add features - timestamp features\n",
    "df['timestamp'] = pd.to_datetime(df['timestamp'])\n",
    "df['month'] = df.timestamp.dt.month\n",
    "df['weekday'] = df.timestamp.dt.weekday\n",
    "df['hour'] = df.timestamp.dt.hour\n",
    "df['year'] = df.timestamp.dt.year"
   ]
  },
  {
   "cell_type": "code",
   "execution_count": 57,
   "id": "6148367c",
   "metadata": {},
   "outputs": [
    {
     "data": {
      "text/plain": [
       "<AxesSubplot:>"
      ]
     },
     "execution_count": 57,
     "metadata": {},
     "output_type": "execute_result"
    },
    {
     "data": {
      "image/png": "[encoded data removed]",
      "text/plain": [
       "<Figure size 1152x1008 with 2 Axes>"
      ]
     },
     "metadata": {},
     "output_type": "display_data"
    }
   ],
   "source": [
    "df_temp = df.drop(columns='building_id')\n",
    "sns.set(rc={'figure.figsize':(16,14)})\n",
    "sns.heatmap(df_temp.corr(), cmap=\"coolwarm\", vmin=-1, vmax=1, annot=True)"
   ]
  },
  {
   "cell_type": "markdown",
   "id": "9814699a",
   "metadata": {},
   "source": [
    "### 2.2 Feature Selection <a id='2.2'></a>"
   ]
  },
  {
   "cell_type": "markdown",
   "id": "5cbe1159",
   "metadata": {},
   "source": [
    "The following features will be selected:\n",
    "* sqm (building size)\n",
    "* timestamp\n",
    "* subUsage (use of building, category)\n",
    "* meter_reading (reading of meter)\n",
    "* airTemperature (temperature)\n",
    "* WindSpeed (speed of wind)\n",
    "* month\n",
    "* weekday\n",
    "* hour"
   ]
  },
  {
   "cell_type": "code",
   "execution_count": 58,
   "id": "8be60547",
   "metadata": {},
   "outputs": [],
   "source": [
    "# selected features\n",
    "columns = ['sqm', 'subUsage', 'airTemperature', 'windSpeed', 'month', 'weekday', 'hour', 'year', 'timestamp', 'meter_reading']\n",
    "df = df[columns]"
   ]
  },
  {
   "cell_type": "code",
   "execution_count": 59,
   "id": "9979f7ad",
   "metadata": {},
   "outputs": [
    {
     "data": {
      "text/html": [
       "<div>\n",
       "<style scoped>\n",
       "    .dataframe tbody tr th:only-of-type {\n",
       "        vertical-align: middle;\n",
       "    }\n",
       "\n",
       "    .dataframe tbody tr th {\n",
       "        vertical-align: top;\n",
       "    }\n",
       "\n",
       "    .dataframe thead th {\n",
       "        text-align: right;\n",
       "    }\n",
       "</style>\n",
       "<table border=\"1\" class=\"dataframe\">\n",
       "  <thead>\n",
       "    <tr style=\"text-align: right;\">\n",
       "      <th></th>\n",
       "      <th>sqm</th>\n",
       "      <th>subUsage</th>\n",
       "      <th>airTemperature</th>\n",
       "      <th>windSpeed</th>\n",
       "      <th>month</th>\n",
       "      <th>weekday</th>\n",
       "      <th>hour</th>\n",
       "      <th>year</th>\n",
       "      <th>timestamp</th>\n",
       "      <th>meter_reading</th>\n",
       "    </tr>\n",
       "  </thead>\n",
       "  <tbody>\n",
       "    <tr>\n",
       "      <th>0</th>\n",
       "      <td>6000.0</td>\n",
       "      <td>College Classroom</td>\n",
       "      <td>-2.2</td>\n",
       "      <td>2.1</td>\n",
       "      <td>1</td>\n",
       "      <td>4</td>\n",
       "      <td>0</td>\n",
       "      <td>2016</td>\n",
       "      <td>2016-01-01 00:00:00</td>\n",
       "      <td>516.43</td>\n",
       "    </tr>\n",
       "    <tr>\n",
       "      <th>1</th>\n",
       "      <td>6000.0</td>\n",
       "      <td>College Classroom</td>\n",
       "      <td>-2.3</td>\n",
       "      <td>2.1</td>\n",
       "      <td>1</td>\n",
       "      <td>4</td>\n",
       "      <td>1</td>\n",
       "      <td>2016</td>\n",
       "      <td>2016-01-01 01:00:00</td>\n",
       "      <td>519.40</td>\n",
       "    </tr>\n",
       "    <tr>\n",
       "      <th>2</th>\n",
       "      <td>6000.0</td>\n",
       "      <td>College Classroom</td>\n",
       "      <td>-2.8</td>\n",
       "      <td>1.5</td>\n",
       "      <td>1</td>\n",
       "      <td>4</td>\n",
       "      <td>2</td>\n",
       "      <td>2016</td>\n",
       "      <td>2016-01-01 02:00:00</td>\n",
       "      <td>501.68</td>\n",
       "    </tr>\n",
       "    <tr>\n",
       "      <th>3</th>\n",
       "      <td>6000.0</td>\n",
       "      <td>College Classroom</td>\n",
       "      <td>-3.0</td>\n",
       "      <td>1.5</td>\n",
       "      <td>1</td>\n",
       "      <td>4</td>\n",
       "      <td>3</td>\n",
       "      <td>2016</td>\n",
       "      <td>2016-01-01 03:00:00</td>\n",
       "      <td>507.87</td>\n",
       "    </tr>\n",
       "    <tr>\n",
       "      <th>4</th>\n",
       "      <td>6000.0</td>\n",
       "      <td>College Classroom</td>\n",
       "      <td>-3.3</td>\n",
       "      <td>1.0</td>\n",
       "      <td>1</td>\n",
       "      <td>4</td>\n",
       "      <td>4</td>\n",
       "      <td>2016</td>\n",
       "      <td>2016-01-01 04:00:00</td>\n",
       "      <td>509.45</td>\n",
       "    </tr>\n",
       "  </tbody>\n",
       "</table>\n",
       "</div>"
      ],
      "text/plain": [
       "      sqm           subUsage  airTemperature  windSpeed  month  weekday  hour  \\\n",
       "0  6000.0  College Classroom            -2.2        2.1      1        4     0   \n",
       "1  6000.0  College Classroom            -2.3        2.1      1        4     1   \n",
       "2  6000.0  College Classroom            -2.8        1.5      1        4     2   \n",
       "3  6000.0  College Classroom            -3.0        1.5      1        4     3   \n",
       "4  6000.0  College Classroom            -3.3        1.0      1        4     4   \n",
       "\n",
       "   year           timestamp  meter_reading  \n",
       "0  2016 2016-01-01 00:00:00         516.43  \n",
       "1  2016 2016-01-01 01:00:00         519.40  \n",
       "2  2016 2016-01-01 02:00:00         501.68  \n",
       "3  2016 2016-01-01 03:00:00         507.87  \n",
       "4  2016 2016-01-01 04:00:00         509.45  "
      ]
     },
     "execution_count": 59,
     "metadata": {},
     "output_type": "execute_result"
    }
   ],
   "source": [
    "df.head()"
   ]
  },
  {
   "cell_type": "code",
   "execution_count": 60,
   "id": "9f67c758",
   "metadata": {},
   "outputs": [
    {
     "data": {
      "text/plain": [
       "(341735, 10)"
      ]
     },
     "execution_count": 60,
     "metadata": {},
     "output_type": "execute_result"
    }
   ],
   "source": [
    "df.shape"
   ]
  },
  {
   "cell_type": "code",
   "execution_count": 61,
   "id": "5a3ef881",
   "metadata": {},
   "outputs": [
    {
     "data": {
      "text/html": [
       "<div>\n",
       "<style scoped>\n",
       "    .dataframe tbody tr th:only-of-type {\n",
       "        vertical-align: middle;\n",
       "    }\n",
       "\n",
       "    .dataframe tbody tr th {\n",
       "        vertical-align: top;\n",
       "    }\n",
       "\n",
       "    .dataframe thead th {\n",
       "        text-align: right;\n",
       "    }\n",
       "</style>\n",
       "<table border=\"1\" class=\"dataframe\">\n",
       "  <thead>\n",
       "    <tr style=\"text-align: right;\">\n",
       "      <th></th>\n",
       "      <th>sqm</th>\n",
       "      <th>airTemperature</th>\n",
       "      <th>windSpeed</th>\n",
       "      <th>month</th>\n",
       "      <th>weekday</th>\n",
       "      <th>hour</th>\n",
       "      <th>year</th>\n",
       "      <th>meter_reading</th>\n",
       "    </tr>\n",
       "  </thead>\n",
       "  <tbody>\n",
       "    <tr>\n",
       "      <th>count</th>\n",
       "      <td>341735.000000</td>\n",
       "      <td>341735.000000</td>\n",
       "      <td>341735.000000</td>\n",
       "      <td>341735.000000</td>\n",
       "      <td>341735.000000</td>\n",
       "      <td>341735.000000</td>\n",
       "      <td>341735.000000</td>\n",
       "      <td>341735.000000</td>\n",
       "    </tr>\n",
       "    <tr>\n",
       "      <th>mean</th>\n",
       "      <td>25238.490536</td>\n",
       "      <td>7.624755</td>\n",
       "      <td>3.445009</td>\n",
       "      <td>6.446960</td>\n",
       "      <td>3.002089</td>\n",
       "      <td>11.501637</td>\n",
       "      <td>2016.492343</td>\n",
       "      <td>2767.385412</td>\n",
       "    </tr>\n",
       "    <tr>\n",
       "      <th>std</th>\n",
       "      <td>19823.883431</td>\n",
       "      <td>12.015891</td>\n",
       "      <td>2.002194</td>\n",
       "      <td>3.419344</td>\n",
       "      <td>1.999548</td>\n",
       "      <td>6.918356</td>\n",
       "      <td>0.499942</td>\n",
       "      <td>3060.092556</td>\n",
       "    </tr>\n",
       "    <tr>\n",
       "      <th>min</th>\n",
       "      <td>6000.000000</td>\n",
       "      <td>-28.800000</td>\n",
       "      <td>0.000000</td>\n",
       "      <td>1.000000</td>\n",
       "      <td>0.000000</td>\n",
       "      <td>0.000000</td>\n",
       "      <td>2016.000000</td>\n",
       "      <td>0.110000</td>\n",
       "    </tr>\n",
       "    <tr>\n",
       "      <th>25%</th>\n",
       "      <td>8659.100000</td>\n",
       "      <td>-0.900000</td>\n",
       "      <td>2.100000</td>\n",
       "      <td>3.000000</td>\n",
       "      <td>1.000000</td>\n",
       "      <td>6.000000</td>\n",
       "      <td>2016.000000</td>\n",
       "      <td>499.686000</td>\n",
       "    </tr>\n",
       "    <tr>\n",
       "      <th>50%</th>\n",
       "      <td>16999.900000</td>\n",
       "      <td>8.100000</td>\n",
       "      <td>3.100000</td>\n",
       "      <td>6.000000</td>\n",
       "      <td>3.000000</td>\n",
       "      <td>12.000000</td>\n",
       "      <td>2016.000000</td>\n",
       "      <td>1405.090000</td>\n",
       "    </tr>\n",
       "    <tr>\n",
       "      <th>75%</th>\n",
       "      <td>37999.900000</td>\n",
       "      <td>17.600000</td>\n",
       "      <td>4.600000</td>\n",
       "      <td>9.000000</td>\n",
       "      <td>5.000000</td>\n",
       "      <td>17.000000</td>\n",
       "      <td>2017.000000</td>\n",
       "      <td>4428.840000</td>\n",
       "    </tr>\n",
       "    <tr>\n",
       "      <th>max</th>\n",
       "      <td>70999.900000</td>\n",
       "      <td>33.900000</td>\n",
       "      <td>13.400000</td>\n",
       "      <td>12.000000</td>\n",
       "      <td>6.000000</td>\n",
       "      <td>23.000000</td>\n",
       "      <td>2017.000000</td>\n",
       "      <td>21507.570000</td>\n",
       "    </tr>\n",
       "  </tbody>\n",
       "</table>\n",
       "</div>"
      ],
      "text/plain": [
       "                 sqm  airTemperature      windSpeed          month  \\\n",
       "count  341735.000000   341735.000000  341735.000000  341735.000000   \n",
       "mean    25238.490536        7.624755       3.445009       6.446960   \n",
       "std     19823.883431       12.015891       2.002194       3.419344   \n",
       "min      6000.000000      -28.800000       0.000000       1.000000   \n",
       "25%      8659.100000       -0.900000       2.100000       3.000000   \n",
       "50%     16999.900000        8.100000       3.100000       6.000000   \n",
       "75%     37999.900000       17.600000       4.600000       9.000000   \n",
       "max     70999.900000       33.900000      13.400000      12.000000   \n",
       "\n",
       "             weekday           hour           year  meter_reading  \n",
       "count  341735.000000  341735.000000  341735.000000  341735.000000  \n",
       "mean        3.002089      11.501637    2016.492343    2767.385412  \n",
       "std         1.999548       6.918356       0.499942    3060.092556  \n",
       "min         0.000000       0.000000    2016.000000       0.110000  \n",
       "25%         1.000000       6.000000    2016.000000     499.686000  \n",
       "50%         3.000000      12.000000    2016.000000    1405.090000  \n",
       "75%         5.000000      17.000000    2017.000000    4428.840000  \n",
       "max         6.000000      23.000000    2017.000000   21507.570000  "
      ]
     },
     "execution_count": 61,
     "metadata": {},
     "output_type": "execute_result"
    }
   ],
   "source": [
    "df.describe()"
   ]
  },
  {
   "cell_type": "markdown",
   "id": "e01d3af4",
   "metadata": {},
   "source": [
    "### 2.3 Data Splitting <a id='2.3'></a>"
   ]
  },
  {
   "cell_type": "code",
   "execution_count": 62,
   "id": "5531574a",
   "metadata": {},
   "outputs": [
    {
     "data": {
      "text/plain": [
       "Index(['sqm', 'subUsage', 'airTemperature', 'windSpeed', 'month', 'weekday',\n",
       "       'hour', 'year', 'timestamp', 'meter_reading'],\n",
       "      dtype='object')"
      ]
     },
     "execution_count": 62,
     "metadata": {},
     "output_type": "execute_result"
    }
   ],
   "source": [
    "df.columns"
   ]
  },
  {
   "cell_type": "code",
   "execution_count": 63,
   "id": "5bb57f19",
   "metadata": {},
   "outputs": [],
   "source": [
    "# list of features to be incldued in X\n",
    "features = ['sqm', 'subUsage', 'airTemperature', 'windSpeed', 'month', 'weekday',\n",
    "       'hour', 'year']\n",
    "\n",
    "\n",
    "# create X based on features\n",
    "X = df[features]\n",
    "X = pd.get_dummies(X, prefix_sep='_', drop_first=True)\n",
    "# create y\n",
    "y = df.meter_reading"
   ]
  },
  {
   "cell_type": "code",
   "execution_count": 64,
   "id": "af213e10",
   "metadata": {},
   "outputs": [
    {
     "data": {
      "text/html": [
       "<div>\n",
       "<style scoped>\n",
       "    .dataframe tbody tr th:only-of-type {\n",
       "        vertical-align: middle;\n",
       "    }\n",
       "\n",
       "    .dataframe tbody tr th {\n",
       "        vertical-align: top;\n",
       "    }\n",
       "\n",
       "    .dataframe thead th {\n",
       "        text-align: right;\n",
       "    }\n",
       "</style>\n",
       "<table border=\"1\" class=\"dataframe\">\n",
       "  <thead>\n",
       "    <tr style=\"text-align: right;\">\n",
       "      <th></th>\n",
       "      <th>sqm</th>\n",
       "      <th>airTemperature</th>\n",
       "      <th>windSpeed</th>\n",
       "      <th>month</th>\n",
       "      <th>weekday</th>\n",
       "      <th>hour</th>\n",
       "      <th>year</th>\n",
       "      <th>subUsage_College Classroom</th>\n",
       "    </tr>\n",
       "  </thead>\n",
       "  <tbody>\n",
       "    <tr>\n",
       "      <th>0</th>\n",
       "      <td>6000.0</td>\n",
       "      <td>-2.2</td>\n",
       "      <td>2.1</td>\n",
       "      <td>1</td>\n",
       "      <td>4</td>\n",
       "      <td>0</td>\n",
       "      <td>2016</td>\n",
       "      <td>1</td>\n",
       "    </tr>\n",
       "    <tr>\n",
       "      <th>1</th>\n",
       "      <td>6000.0</td>\n",
       "      <td>-2.3</td>\n",
       "      <td>2.1</td>\n",
       "      <td>1</td>\n",
       "      <td>4</td>\n",
       "      <td>1</td>\n",
       "      <td>2016</td>\n",
       "      <td>1</td>\n",
       "    </tr>\n",
       "    <tr>\n",
       "      <th>2</th>\n",
       "      <td>6000.0</td>\n",
       "      <td>-2.8</td>\n",
       "      <td>1.5</td>\n",
       "      <td>1</td>\n",
       "      <td>4</td>\n",
       "      <td>2</td>\n",
       "      <td>2016</td>\n",
       "      <td>1</td>\n",
       "    </tr>\n",
       "    <tr>\n",
       "      <th>3</th>\n",
       "      <td>6000.0</td>\n",
       "      <td>-3.0</td>\n",
       "      <td>1.5</td>\n",
       "      <td>1</td>\n",
       "      <td>4</td>\n",
       "      <td>3</td>\n",
       "      <td>2016</td>\n",
       "      <td>1</td>\n",
       "    </tr>\n",
       "    <tr>\n",
       "      <th>4</th>\n",
       "      <td>6000.0</td>\n",
       "      <td>-3.3</td>\n",
       "      <td>1.0</td>\n",
       "      <td>1</td>\n",
       "      <td>4</td>\n",
       "      <td>4</td>\n",
       "      <td>2016</td>\n",
       "      <td>1</td>\n",
       "    </tr>\n",
       "  </tbody>\n",
       "</table>\n",
       "</div>"
      ],
      "text/plain": [
       "      sqm  airTemperature  windSpeed  month  weekday  hour  year  \\\n",
       "0  6000.0            -2.2        2.1      1        4     0  2016   \n",
       "1  6000.0            -2.3        2.1      1        4     1  2016   \n",
       "2  6000.0            -2.8        1.5      1        4     2  2016   \n",
       "3  6000.0            -3.0        1.5      1        4     3  2016   \n",
       "4  6000.0            -3.3        1.0      1        4     4  2016   \n",
       "\n",
       "   subUsage_College Classroom  \n",
       "0                           1  \n",
       "1                           1  \n",
       "2                           1  \n",
       "3                           1  \n",
       "4                           1  "
      ]
     },
     "execution_count": 64,
     "metadata": {},
     "output_type": "execute_result"
    }
   ],
   "source": [
    "X.head()"
   ]
  },
  {
   "cell_type": "code",
   "execution_count": 65,
   "id": "79caa90c",
   "metadata": {},
   "outputs": [],
   "source": [
    "# split data\n",
    "X_train, X_test, y_train, y_test = train_test_split(X, y, test_size = 0.3, random_state = 246)"
   ]
  },
  {
   "cell_type": "code",
   "execution_count": null,
   "id": "4d242abc",
   "metadata": {},
   "outputs": [],
   "source": []
  },
  {
   "cell_type": "code",
   "execution_count": 66,
   "id": "09672f5d",
   "metadata": {},
   "outputs": [],
   "source": [
    "RF_pipe = make_pipeline(\n",
    "    SimpleImputer(strategy='median'),\n",
    "    StandardScaler(),\n",
    "    RandomForestRegressor(random_state=47)\n",
    ")"
   ]
  },
  {
   "cell_type": "code",
   "execution_count": 67,
   "id": "0498d368",
   "metadata": {},
   "outputs": [
    {
     "data": {
      "text/plain": [
       "{'randomforestregressor__n_estimators': [10,\n",
       "  12,\n",
       "  16,\n",
       "  20,\n",
       "  26,\n",
       "  33,\n",
       "  42,\n",
       "  54,\n",
       "  69,\n",
       "  88,\n",
       "  112,\n",
       "  143,\n",
       "  183,\n",
       "  233,\n",
       "  297,\n",
       "  379,\n",
       "  483,\n",
       "  615,\n",
       "  784,\n",
       "  1000],\n",
       " 'standardscaler': [StandardScaler(), None],\n",
       " 'simpleimputer__strategy': ['mean', 'median']}"
      ]
     },
     "execution_count": 67,
     "metadata": {},
     "output_type": "execute_result"
    }
   ],
   "source": [
    "n_est = [int(n) for n in np.logspace(start=1, stop=3, num=20)]\n",
    "grid_params = {\n",
    "        'randomforestregressor__n_estimators': n_est,\n",
    "        'standardscaler': [StandardScaler(), None],\n",
    "        'simpleimputer__strategy': ['mean', 'median']\n",
    "}\n",
    "grid_params"
   ]
  },
  {
   "cell_type": "code",
   "execution_count": 68,
   "id": "aa0e6ab8",
   "metadata": {},
   "outputs": [],
   "source": [
    "rf_grid_cv = GridSearchCV(RF_pipe, param_grid=grid_params, cv=5, n_jobs=-1)"
   ]
  },
  {
   "cell_type": "code",
   "execution_count": 69,
   "id": "49594fa5",
   "metadata": {},
   "outputs": [
    {
     "ename": "KeyboardInterrupt",
     "evalue": "",
     "output_type": "error",
     "traceback": [
      "\u001b[0;31m---------------------------------------------------------------------------\u001b[0m",
      "\u001b[0;31mKeyboardInterrupt\u001b[0m                         Traceback (most recent call last)",
      "\u001b[0;32m/var/folders/q6/qwt53f_919g5hmzw0039h9100000gn/T/ipykernel_19449/2212898734.py\u001b[0m in \u001b[0;36m<module>\u001b[0;34m\u001b[0m\n\u001b[0;32m----> 1\u001b[0;31m \u001b[0mrf_grid_cv\u001b[0m\u001b[0;34m.\u001b[0m\u001b[0mfit\u001b[0m\u001b[0;34m(\u001b[0m\u001b[0mX_train\u001b[0m\u001b[0;34m,\u001b[0m \u001b[0my_train\u001b[0m\u001b[0;34m)\u001b[0m\u001b[0;34m\u001b[0m\u001b[0;34m\u001b[0m\u001b[0m\n\u001b[0m",
      "\u001b[0;32m~/opt/anaconda3/lib/python3.9/site-packages/sklearn/utils/validation.py\u001b[0m in \u001b[0;36minner_f\u001b[0;34m(*args, **kwargs)\u001b[0m\n\u001b[1;32m     61\u001b[0m             \u001b[0mextra_args\u001b[0m \u001b[0;34m=\u001b[0m \u001b[0mlen\u001b[0m\u001b[0;34m(\u001b[0m\u001b[0margs\u001b[0m\u001b[0;34m)\u001b[0m \u001b[0;34m-\u001b[0m \u001b[0mlen\u001b[0m\u001b[0;34m(\u001b[0m\u001b[0mall_args\u001b[0m\u001b[0;34m)\u001b[0m\u001b[0;34m\u001b[0m\u001b[0;34m\u001b[0m\u001b[0m\n\u001b[1;32m     62\u001b[0m             \u001b[0;32mif\u001b[0m \u001b[0mextra_args\u001b[0m \u001b[0;34m<=\u001b[0m \u001b[0;36m0\u001b[0m\u001b[0;34m:\u001b[0m\u001b[0;34m\u001b[0m\u001b[0;34m\u001b[0m\u001b[0m\n\u001b[0;32m---> 63\u001b[0;31m                 \u001b[0;32mreturn\u001b[0m \u001b[0mf\u001b[0m\u001b[0;34m(\u001b[0m\u001b[0;34m*\u001b[0m\u001b[0margs\u001b[0m\u001b[0;34m,\u001b[0m \u001b[0;34m**\u001b[0m\u001b[0mkwargs\u001b[0m\u001b[0;34m)\u001b[0m\u001b[0;34m\u001b[0m\u001b[0;34m\u001b[0m\u001b[0m\n\u001b[0m\u001b[1;32m     64\u001b[0m \u001b[0;34m\u001b[0m\u001b[0m\n\u001b[1;32m     65\u001b[0m             \u001b[0;31m# extra_args > 0\u001b[0m\u001b[0;34m\u001b[0m\u001b[0;34m\u001b[0m\u001b[0m\n",
      "\u001b[0;32m~/opt/anaconda3/lib/python3.9/site-packages/sklearn/model_selection/_search.py\u001b[0m in \u001b[0;36mfit\u001b[0;34m(self, X, y, groups, **fit_params)\u001b[0m\n\u001b[1;32m    839\u001b[0m                 \u001b[0;32mreturn\u001b[0m \u001b[0mresults\u001b[0m\u001b[0;34m\u001b[0m\u001b[0;34m\u001b[0m\u001b[0m\n\u001b[1;32m    840\u001b[0m \u001b[0;34m\u001b[0m\u001b[0m\n\u001b[0;32m--> 841\u001b[0;31m             \u001b[0mself\u001b[0m\u001b[0;34m.\u001b[0m\u001b[0m_run_search\u001b[0m\u001b[0;34m(\u001b[0m\u001b[0mevaluate_candidates\u001b[0m\u001b[0;34m)\u001b[0m\u001b[0;34m\u001b[0m\u001b[0;34m\u001b[0m\u001b[0m\n\u001b[0m\u001b[1;32m    842\u001b[0m \u001b[0;34m\u001b[0m\u001b[0m\n\u001b[1;32m    843\u001b[0m             \u001b[0;31m# multimetric is determined here because in the case of a callable\u001b[0m\u001b[0;34m\u001b[0m\u001b[0;34m\u001b[0m\u001b[0m\n",
      "\u001b[0;32m~/opt/anaconda3/lib/python3.9/site-packages/sklearn/model_selection/_search.py\u001b[0m in \u001b[0;36m_run_search\u001b[0;34m(self, evaluate_candidates)\u001b[0m\n\u001b[1;32m   1294\u001b[0m     \u001b[0;32mdef\u001b[0m \u001b[0m_run_search\u001b[0m\u001b[0;34m(\u001b[0m\u001b[0mself\u001b[0m\u001b[0;34m,\u001b[0m \u001b[0mevaluate_candidates\u001b[0m\u001b[0;34m)\u001b[0m\u001b[0;34m:\u001b[0m\u001b[0;34m\u001b[0m\u001b[0;34m\u001b[0m\u001b[0m\n\u001b[1;32m   1295\u001b[0m         \u001b[0;34m\"\"\"Search all candidates in param_grid\"\"\"\u001b[0m\u001b[0;34m\u001b[0m\u001b[0;34m\u001b[0m\u001b[0m\n\u001b[0;32m-> 1296\u001b[0;31m         \u001b[0mevaluate_candidates\u001b[0m\u001b[0;34m(\u001b[0m\u001b[0mParameterGrid\u001b[0m\u001b[0;34m(\u001b[0m\u001b[0mself\u001b[0m\u001b[0;34m.\u001b[0m\u001b[0mparam_grid\u001b[0m\u001b[0;34m)\u001b[0m\u001b[0;34m)\u001b[0m\u001b[0;34m\u001b[0m\u001b[0;34m\u001b[0m\u001b[0m\n\u001b[0m\u001b[1;32m   1297\u001b[0m \u001b[0;34m\u001b[0m\u001b[0m\n\u001b[1;32m   1298\u001b[0m \u001b[0;34m\u001b[0m\u001b[0m\n",
      "\u001b[0;32m~/opt/anaconda3/lib/python3.9/site-packages/sklearn/model_selection/_search.py\u001b[0m in \u001b[0;36mevaluate_candidates\u001b[0;34m(candidate_params, cv, more_results)\u001b[0m\n\u001b[1;32m    793\u001b[0m                               n_splits, n_candidates, n_candidates * n_splits))\n\u001b[1;32m    794\u001b[0m \u001b[0;34m\u001b[0m\u001b[0m\n\u001b[0;32m--> 795\u001b[0;31m                 out = parallel(delayed(_fit_and_score)(clone(base_estimator),\n\u001b[0m\u001b[1;32m    796\u001b[0m                                                        \u001b[0mX\u001b[0m\u001b[0;34m,\u001b[0m \u001b[0my\u001b[0m\u001b[0;34m,\u001b[0m\u001b[0;34m\u001b[0m\u001b[0;34m\u001b[0m\u001b[0m\n\u001b[1;32m    797\u001b[0m                                                        \u001b[0mtrain\u001b[0m\u001b[0;34m=\u001b[0m\u001b[0mtrain\u001b[0m\u001b[0;34m,\u001b[0m \u001b[0mtest\u001b[0m\u001b[0;34m=\u001b[0m\u001b[0mtest\u001b[0m\u001b[0;34m,\u001b[0m\u001b[0;34m\u001b[0m\u001b[0;34m\u001b[0m\u001b[0m\n",
      "\u001b[0;32m~/opt/anaconda3/lib/python3.9/site-packages/joblib/parallel.py\u001b[0m in \u001b[0;36m__call__\u001b[0;34m(self, iterable)\u001b[0m\n\u001b[1;32m   1054\u001b[0m \u001b[0;34m\u001b[0m\u001b[0m\n\u001b[1;32m   1055\u001b[0m             \u001b[0;32mwith\u001b[0m \u001b[0mself\u001b[0m\u001b[0;34m.\u001b[0m\u001b[0m_backend\u001b[0m\u001b[0;34m.\u001b[0m\u001b[0mretrieval_context\u001b[0m\u001b[0;34m(\u001b[0m\u001b[0;34m)\u001b[0m\u001b[0;34m:\u001b[0m\u001b[0;34m\u001b[0m\u001b[0;34m\u001b[0m\u001b[0m\n\u001b[0;32m-> 1056\u001b[0;31m                 \u001b[0mself\u001b[0m\u001b[0;34m.\u001b[0m\u001b[0mretrieve\u001b[0m\u001b[0;34m(\u001b[0m\u001b[0;34m)\u001b[0m\u001b[0;34m\u001b[0m\u001b[0;34m\u001b[0m\u001b[0m\n\u001b[0m\u001b[1;32m   1057\u001b[0m             \u001b[0;31m# Make sure that we get a last message telling us we are done\u001b[0m\u001b[0;34m\u001b[0m\u001b[0;34m\u001b[0m\u001b[0m\n\u001b[1;32m   1058\u001b[0m             \u001b[0melapsed_time\u001b[0m \u001b[0;34m=\u001b[0m \u001b[0mtime\u001b[0m\u001b[0;34m.\u001b[0m\u001b[0mtime\u001b[0m\u001b[0;34m(\u001b[0m\u001b[0;34m)\u001b[0m \u001b[0;34m-\u001b[0m \u001b[0mself\u001b[0m\u001b[0;34m.\u001b[0m\u001b[0m_start_time\u001b[0m\u001b[0;34m\u001b[0m\u001b[0;34m\u001b[0m\u001b[0m\n",
      "\u001b[0;32m~/opt/anaconda3/lib/python3.9/site-packages/joblib/parallel.py\u001b[0m in \u001b[0;36mretrieve\u001b[0;34m(self)\u001b[0m\n\u001b[1;32m    933\u001b[0m             \u001b[0;32mtry\u001b[0m\u001b[0;34m:\u001b[0m\u001b[0;34m\u001b[0m\u001b[0;34m\u001b[0m\u001b[0m\n\u001b[1;32m    934\u001b[0m                 \u001b[0;32mif\u001b[0m \u001b[0mgetattr\u001b[0m\u001b[0;34m(\u001b[0m\u001b[0mself\u001b[0m\u001b[0;34m.\u001b[0m\u001b[0m_backend\u001b[0m\u001b[0;34m,\u001b[0m \u001b[0;34m'supports_timeout'\u001b[0m\u001b[0;34m,\u001b[0m \u001b[0;32mFalse\u001b[0m\u001b[0;34m)\u001b[0m\u001b[0;34m:\u001b[0m\u001b[0;34m\u001b[0m\u001b[0;34m\u001b[0m\u001b[0m\n\u001b[0;32m--> 935\u001b[0;31m                     \u001b[0mself\u001b[0m\u001b[0;34m.\u001b[0m\u001b[0m_output\u001b[0m\u001b[0;34m.\u001b[0m\u001b[0mextend\u001b[0m\u001b[0;34m(\u001b[0m\u001b[0mjob\u001b[0m\u001b[0;34m.\u001b[0m\u001b[0mget\u001b[0m\u001b[0;34m(\u001b[0m\u001b[0mtimeout\u001b[0m\u001b[0;34m=\u001b[0m\u001b[0mself\u001b[0m\u001b[0;34m.\u001b[0m\u001b[0mtimeout\u001b[0m\u001b[0;34m)\u001b[0m\u001b[0;34m)\u001b[0m\u001b[0;34m\u001b[0m\u001b[0;34m\u001b[0m\u001b[0m\n\u001b[0m\u001b[1;32m    936\u001b[0m                 \u001b[0;32melse\u001b[0m\u001b[0;34m:\u001b[0m\u001b[0;34m\u001b[0m\u001b[0;34m\u001b[0m\u001b[0m\n\u001b[1;32m    937\u001b[0m                     \u001b[0mself\u001b[0m\u001b[0;34m.\u001b[0m\u001b[0m_output\u001b[0m\u001b[0;34m.\u001b[0m\u001b[0mextend\u001b[0m\u001b[0;34m(\u001b[0m\u001b[0mjob\u001b[0m\u001b[0;34m.\u001b[0m\u001b[0mget\u001b[0m\u001b[0;34m(\u001b[0m\u001b[0;34m)\u001b[0m\u001b[0;34m)\u001b[0m\u001b[0;34m\u001b[0m\u001b[0;34m\u001b[0m\u001b[0m\n",
      "\u001b[0;32m~/opt/anaconda3/lib/python3.9/site-packages/joblib/_parallel_backends.py\u001b[0m in \u001b[0;36mwrap_future_result\u001b[0;34m(future, timeout)\u001b[0m\n\u001b[1;32m    540\u001b[0m         AsyncResults.get from multiprocessing.\"\"\"\n\u001b[1;32m    541\u001b[0m         \u001b[0;32mtry\u001b[0m\u001b[0;34m:\u001b[0m\u001b[0;34m\u001b[0m\u001b[0;34m\u001b[0m\u001b[0m\n\u001b[0;32m--> 542\u001b[0;31m             \u001b[0;32mreturn\u001b[0m \u001b[0mfuture\u001b[0m\u001b[0;34m.\u001b[0m\u001b[0mresult\u001b[0m\u001b[0;34m(\u001b[0m\u001b[0mtimeout\u001b[0m\u001b[0;34m=\u001b[0m\u001b[0mtimeout\u001b[0m\u001b[0;34m)\u001b[0m\u001b[0;34m\u001b[0m\u001b[0;34m\u001b[0m\u001b[0m\n\u001b[0m\u001b[1;32m    543\u001b[0m         \u001b[0;32mexcept\u001b[0m \u001b[0mCfTimeoutError\u001b[0m \u001b[0;32mas\u001b[0m \u001b[0me\u001b[0m\u001b[0;34m:\u001b[0m\u001b[0;34m\u001b[0m\u001b[0;34m\u001b[0m\u001b[0m\n\u001b[1;32m    544\u001b[0m             \u001b[0;32mraise\u001b[0m \u001b[0mTimeoutError\u001b[0m \u001b[0;32mfrom\u001b[0m \u001b[0me\u001b[0m\u001b[0;34m\u001b[0m\u001b[0;34m\u001b[0m\u001b[0m\n",
      "\u001b[0;32m~/opt/anaconda3/lib/python3.9/concurrent/futures/_base.py\u001b[0m in \u001b[0;36mresult\u001b[0;34m(self, timeout)\u001b[0m\n\u001b[1;32m    438\u001b[0m                     \u001b[0;32mreturn\u001b[0m \u001b[0mself\u001b[0m\u001b[0;34m.\u001b[0m\u001b[0m__get_result\u001b[0m\u001b[0;34m(\u001b[0m\u001b[0;34m)\u001b[0m\u001b[0;34m\u001b[0m\u001b[0;34m\u001b[0m\u001b[0m\n\u001b[1;32m    439\u001b[0m \u001b[0;34m\u001b[0m\u001b[0m\n\u001b[0;32m--> 440\u001b[0;31m                 \u001b[0mself\u001b[0m\u001b[0;34m.\u001b[0m\u001b[0m_condition\u001b[0m\u001b[0;34m.\u001b[0m\u001b[0mwait\u001b[0m\u001b[0;34m(\u001b[0m\u001b[0mtimeout\u001b[0m\u001b[0;34m)\u001b[0m\u001b[0;34m\u001b[0m\u001b[0;34m\u001b[0m\u001b[0m\n\u001b[0m\u001b[1;32m    441\u001b[0m \u001b[0;34m\u001b[0m\u001b[0m\n\u001b[1;32m    442\u001b[0m                 \u001b[0;32mif\u001b[0m \u001b[0mself\u001b[0m\u001b[0;34m.\u001b[0m\u001b[0m_state\u001b[0m \u001b[0;32min\u001b[0m \u001b[0;34m[\u001b[0m\u001b[0mCANCELLED\u001b[0m\u001b[0;34m,\u001b[0m \u001b[0mCANCELLED_AND_NOTIFIED\u001b[0m\u001b[0;34m]\u001b[0m\u001b[0;34m:\u001b[0m\u001b[0;34m\u001b[0m\u001b[0;34m\u001b[0m\u001b[0m\n",
      "\u001b[0;32m~/opt/anaconda3/lib/python3.9/threading.py\u001b[0m in \u001b[0;36mwait\u001b[0;34m(self, timeout)\u001b[0m\n\u001b[1;32m    310\u001b[0m         \u001b[0;32mtry\u001b[0m\u001b[0;34m:\u001b[0m    \u001b[0;31m# restore state no matter what (e.g., KeyboardInterrupt)\u001b[0m\u001b[0;34m\u001b[0m\u001b[0;34m\u001b[0m\u001b[0m\n\u001b[1;32m    311\u001b[0m             \u001b[0;32mif\u001b[0m \u001b[0mtimeout\u001b[0m \u001b[0;32mis\u001b[0m \u001b[0;32mNone\u001b[0m\u001b[0;34m:\u001b[0m\u001b[0;34m\u001b[0m\u001b[0;34m\u001b[0m\u001b[0m\n\u001b[0;32m--> 312\u001b[0;31m                 \u001b[0mwaiter\u001b[0m\u001b[0;34m.\u001b[0m\u001b[0macquire\u001b[0m\u001b[0;34m(\u001b[0m\u001b[0;34m)\u001b[0m\u001b[0;34m\u001b[0m\u001b[0;34m\u001b[0m\u001b[0m\n\u001b[0m\u001b[1;32m    313\u001b[0m                 \u001b[0mgotit\u001b[0m \u001b[0;34m=\u001b[0m \u001b[0;32mTrue\u001b[0m\u001b[0;34m\u001b[0m\u001b[0;34m\u001b[0m\u001b[0m\n\u001b[1;32m    314\u001b[0m             \u001b[0;32melse\u001b[0m\u001b[0;34m:\u001b[0m\u001b[0;34m\u001b[0m\u001b[0;34m\u001b[0m\u001b[0m\n",
      "\u001b[0;31mKeyboardInterrupt\u001b[0m: "
     ]
    }
   ],
   "source": [
    "rf_grid_cv.fit(X_train, y_train)"
   ]
  },
  {
   "cell_type": "code",
   "execution_count": null,
   "id": "31fdd746",
   "metadata": {},
   "outputs": [],
   "source": [
    "rf_grid_cv.best_params_"
   ]
  },
  {
   "cell_type": "code",
   "execution_count": null,
   "id": "2543b683",
   "metadata": {},
   "outputs": [],
   "source": []
  }
 ],
 "metadata": {
  "kernelspec": {
   "display_name": "Python 3 (ipykernel)",
   "language": "python",
   "name": "python3"
  },
  "language_info": {
   "codemirror_mode": {
    "name": "ipython",
    "version": 3
   },
   "file_extension": ".py",
   "mimetype": "text/x-python",
   "name": "python",
   "nbconvert_exporter": "python",
   "pygments_lexer": "ipython3",
   "version": "3.9.7"
  }
 },
 "nbformat": 4,
 "nbformat_minor": 5
}
