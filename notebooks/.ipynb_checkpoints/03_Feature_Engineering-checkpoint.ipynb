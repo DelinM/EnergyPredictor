{
 "cells": [
  {
   "cell_type": "markdown",
   "id": "162335a4",
   "metadata": {},
   "source": [
    "# 03 Feature Engineering - Energy Prediction<a id=''></a>"
   ]
  },
  {
   "cell_type": "markdown",
   "id": "82932b60",
   "metadata": {},
   "source": [
    "## 1. Introduction <a id='1'></a>"
   ]
  },
  {
   "cell_type": "markdown",
   "id": "9823bb90",
   "metadata": {},
   "source": [
    "The main task for the notebook is to perform feature engineering for the cleaned and merged datatset."
   ]
  },
  {
   "cell_type": "markdown",
   "id": "ff3b0fb5",
   "metadata": {},
   "source": [
    "## 2. Feature Engineering <a id='2'></a>"
   ]
  },
  {
   "cell_type": "markdown",
   "id": "e4a616e9",
   "metadata": {},
   "source": [
    "### 2.1 Imports <a id='2.1'></a>"
   ]
  },
  {
   "cell_type": "code",
   "execution_count": 173,
   "id": "5a2ee9a7",
   "metadata": {},
   "outputs": [],
   "source": [
    "import numpy as np\n",
    "import pandas as pd\n",
    "import matplotlib.pyplot as plt\n",
    "import seaborn as sns\n",
    "import os\n",
    "\n",
    "import matplotlib as mpl\n",
    "import matplotlib.pylab as pylab\n",
    "import matplotlib.patches as mpatches\n",
    "from matplotlib.gridspec import GridSpec\n",
    "\n",
    "# Metrics & Models\n",
    "from sklearn.preprocessing import LabelEncoder\n",
    "from sklearn.model_selection import train_test_split\n",
    "from sklearn import tree, metrics\n",
    "%matplotlib inline\n",
    "\n",
    "import pandas as pd\n",
    "import numpy as np\n",
    "import os\n",
    "import pickle\n",
    "import matplotlib.pyplot as plt\n",
    "import seaborn as sns\n",
    "from sklearn import __version__ as sklearn_version\n",
    "from sklearn.decomposition import PCA\n",
    "from sklearn.preprocessing import scale\n",
    "from sklearn.model_selection import train_test_split, cross_validate, GridSearchCV, learning_curve\n",
    "from sklearn.preprocessing import StandardScaler, MinMaxScaler\n",
    "from sklearn.dummy import DummyRegressor\n",
    "from sklearn.linear_model import LinearRegression\n",
    "from sklearn.ensemble import RandomForestRegressor\n",
    "from sklearn.metrics import r2_score, mean_squared_error, mean_absolute_error\n",
    "from sklearn.pipeline import make_pipeline\n",
    "from sklearn.impute import SimpleImputer\n",
    "from sklearn.feature_selection import SelectKBest, f_regression\n",
    "import datetime"
   ]
  },
  {
   "cell_type": "code",
   "execution_count": 174,
   "id": "ebc25eed",
   "metadata": {},
   "outputs": [],
   "source": [
    "path = '../data/'\n",
    "file_name = 'mlmodeldata.csv'\n",
    "full_path = path + file_name\n",
    "df = pd.read_csv(full_path, index_col=[0])"
   ]
  },
  {
   "cell_type": "code",
   "execution_count": 175,
   "id": "0562a4d0",
   "metadata": {},
   "outputs": [
    {
     "data": {
      "text/html": [
       "<div>\n",
       "<style scoped>\n",
       "    .dataframe tbody tr th:only-of-type {\n",
       "        vertical-align: middle;\n",
       "    }\n",
       "\n",
       "    .dataframe tbody tr th {\n",
       "        vertical-align: top;\n",
       "    }\n",
       "\n",
       "    .dataframe thead th {\n",
       "        text-align: right;\n",
       "    }\n",
       "</style>\n",
       "<table border=\"1\" class=\"dataframe\">\n",
       "  <thead>\n",
       "    <tr style=\"text-align: right;\">\n",
       "      <th></th>\n",
       "      <th>building_id</th>\n",
       "      <th>loc_id</th>\n",
       "      <th>subUsage</th>\n",
       "      <th>sqm</th>\n",
       "      <th>Unnamed: 0_x</th>\n",
       "      <th>index</th>\n",
       "      <th>timestamp</th>\n",
       "      <th>meter_reading</th>\n",
       "      <th>Unnamed: 0_y</th>\n",
       "      <th>site_id</th>\n",
       "      <th>airTemperature</th>\n",
       "      <th>dewTemperature</th>\n",
       "      <th>seaLvlPressure</th>\n",
       "      <th>windDirection</th>\n",
       "      <th>windSpeed</th>\n",
       "    </tr>\n",
       "  </thead>\n",
       "  <tbody>\n",
       "    <tr>\n",
       "      <th>0</th>\n",
       "      <td>789</td>\n",
       "      <td>7.0</td>\n",
       "      <td>College Classroom</td>\n",
       "      <td>6000.0</td>\n",
       "      <td>0</td>\n",
       "      <td>0</td>\n",
       "      <td>2016-01-01 00:00:00</td>\n",
       "      <td>516.43</td>\n",
       "      <td>17544</td>\n",
       "      <td>Ottawa</td>\n",
       "      <td>-2.2</td>\n",
       "      <td>-3.6</td>\n",
       "      <td>1014.5</td>\n",
       "      <td>270.0</td>\n",
       "      <td>2.1</td>\n",
       "    </tr>\n",
       "    <tr>\n",
       "      <th>1</th>\n",
       "      <td>789</td>\n",
       "      <td>7.0</td>\n",
       "      <td>College Classroom</td>\n",
       "      <td>6000.0</td>\n",
       "      <td>1</td>\n",
       "      <td>1</td>\n",
       "      <td>2016-01-01 01:00:00</td>\n",
       "      <td>519.40</td>\n",
       "      <td>17545</td>\n",
       "      <td>Ottawa</td>\n",
       "      <td>-2.3</td>\n",
       "      <td>-3.8</td>\n",
       "      <td>1014.5</td>\n",
       "      <td>260.0</td>\n",
       "      <td>2.1</td>\n",
       "    </tr>\n",
       "    <tr>\n",
       "      <th>2</th>\n",
       "      <td>789</td>\n",
       "      <td>7.0</td>\n",
       "      <td>College Classroom</td>\n",
       "      <td>6000.0</td>\n",
       "      <td>2</td>\n",
       "      <td>2</td>\n",
       "      <td>2016-01-01 02:00:00</td>\n",
       "      <td>501.68</td>\n",
       "      <td>17546</td>\n",
       "      <td>Ottawa</td>\n",
       "      <td>-2.8</td>\n",
       "      <td>-4.0</td>\n",
       "      <td>1014.0</td>\n",
       "      <td>260.0</td>\n",
       "      <td>1.5</td>\n",
       "    </tr>\n",
       "    <tr>\n",
       "      <th>3</th>\n",
       "      <td>789</td>\n",
       "      <td>7.0</td>\n",
       "      <td>College Classroom</td>\n",
       "      <td>6000.0</td>\n",
       "      <td>3</td>\n",
       "      <td>3</td>\n",
       "      <td>2016-01-01 03:00:00</td>\n",
       "      <td>507.87</td>\n",
       "      <td>17547</td>\n",
       "      <td>Ottawa</td>\n",
       "      <td>-3.0</td>\n",
       "      <td>-3.8</td>\n",
       "      <td>1014.0</td>\n",
       "      <td>260.0</td>\n",
       "      <td>1.5</td>\n",
       "    </tr>\n",
       "    <tr>\n",
       "      <th>4</th>\n",
       "      <td>789</td>\n",
       "      <td>7.0</td>\n",
       "      <td>College Classroom</td>\n",
       "      <td>6000.0</td>\n",
       "      <td>4</td>\n",
       "      <td>4</td>\n",
       "      <td>2016-01-01 04:00:00</td>\n",
       "      <td>509.45</td>\n",
       "      <td>17548</td>\n",
       "      <td>Ottawa</td>\n",
       "      <td>-3.3</td>\n",
       "      <td>-3.8</td>\n",
       "      <td>1013.5</td>\n",
       "      <td>230.0</td>\n",
       "      <td>1.0</td>\n",
       "    </tr>\n",
       "  </tbody>\n",
       "</table>\n",
       "</div>"
      ],
      "text/plain": [
       "   building_id  loc_id           subUsage     sqm  Unnamed: 0_x  index  \\\n",
       "0          789     7.0  College Classroom  6000.0             0      0   \n",
       "1          789     7.0  College Classroom  6000.0             1      1   \n",
       "2          789     7.0  College Classroom  6000.0             2      2   \n",
       "3          789     7.0  College Classroom  6000.0             3      3   \n",
       "4          789     7.0  College Classroom  6000.0             4      4   \n",
       "\n",
       "             timestamp  meter_reading  Unnamed: 0_y site_id  airTemperature  \\\n",
       "0  2016-01-01 00:00:00         516.43         17544  Ottawa            -2.2   \n",
       "1  2016-01-01 01:00:00         519.40         17545  Ottawa            -2.3   \n",
       "2  2016-01-01 02:00:00         501.68         17546  Ottawa            -2.8   \n",
       "3  2016-01-01 03:00:00         507.87         17547  Ottawa            -3.0   \n",
       "4  2016-01-01 04:00:00         509.45         17548  Ottawa            -3.3   \n",
       "\n",
       "   dewTemperature  seaLvlPressure  windDirection  windSpeed  \n",
       "0            -3.6          1014.5          270.0        2.1  \n",
       "1            -3.8          1014.5          260.0        2.1  \n",
       "2            -4.0          1014.0          260.0        1.5  \n",
       "3            -3.8          1014.0          260.0        1.5  \n",
       "4            -3.8          1013.5          230.0        1.0  "
      ]
     },
     "execution_count": 175,
     "metadata": {},
     "output_type": "execute_result"
    }
   ],
   "source": [
    "df.head()"
   ]
  },
  {
   "cell_type": "code",
   "execution_count": 176,
   "id": "be8cc028",
   "metadata": {},
   "outputs": [],
   "source": [
    "# columns to be removed\n",
    "columns = ['loc_id', 'Unnamed: 0_x', 'index', 'Unnamed: 0_y']\n",
    "\n",
    "df = df.drop(columns=columns)"
   ]
  },
  {
   "cell_type": "code",
   "execution_count": 177,
   "id": "0d645505",
   "metadata": {},
   "outputs": [
    {
     "data": {
      "text/html": [
       "<div>\n",
       "<style scoped>\n",
       "    .dataframe tbody tr th:only-of-type {\n",
       "        vertical-align: middle;\n",
       "    }\n",
       "\n",
       "    .dataframe tbody tr th {\n",
       "        vertical-align: top;\n",
       "    }\n",
       "\n",
       "    .dataframe thead th {\n",
       "        text-align: right;\n",
       "    }\n",
       "</style>\n",
       "<table border=\"1\" class=\"dataframe\">\n",
       "  <thead>\n",
       "    <tr style=\"text-align: right;\">\n",
       "      <th></th>\n",
       "      <th>building_id</th>\n",
       "      <th>subUsage</th>\n",
       "      <th>sqm</th>\n",
       "      <th>timestamp</th>\n",
       "      <th>meter_reading</th>\n",
       "      <th>site_id</th>\n",
       "      <th>airTemperature</th>\n",
       "      <th>dewTemperature</th>\n",
       "      <th>seaLvlPressure</th>\n",
       "      <th>windDirection</th>\n",
       "      <th>windSpeed</th>\n",
       "    </tr>\n",
       "  </thead>\n",
       "  <tbody>\n",
       "    <tr>\n",
       "      <th>0</th>\n",
       "      <td>789</td>\n",
       "      <td>College Classroom</td>\n",
       "      <td>6000.0</td>\n",
       "      <td>2016-01-01 00:00:00</td>\n",
       "      <td>516.43</td>\n",
       "      <td>Ottawa</td>\n",
       "      <td>-2.2</td>\n",
       "      <td>-3.6</td>\n",
       "      <td>1014.5</td>\n",
       "      <td>270.0</td>\n",
       "      <td>2.1</td>\n",
       "    </tr>\n",
       "    <tr>\n",
       "      <th>1</th>\n",
       "      <td>789</td>\n",
       "      <td>College Classroom</td>\n",
       "      <td>6000.0</td>\n",
       "      <td>2016-01-01 01:00:00</td>\n",
       "      <td>519.40</td>\n",
       "      <td>Ottawa</td>\n",
       "      <td>-2.3</td>\n",
       "      <td>-3.8</td>\n",
       "      <td>1014.5</td>\n",
       "      <td>260.0</td>\n",
       "      <td>2.1</td>\n",
       "    </tr>\n",
       "    <tr>\n",
       "      <th>2</th>\n",
       "      <td>789</td>\n",
       "      <td>College Classroom</td>\n",
       "      <td>6000.0</td>\n",
       "      <td>2016-01-01 02:00:00</td>\n",
       "      <td>501.68</td>\n",
       "      <td>Ottawa</td>\n",
       "      <td>-2.8</td>\n",
       "      <td>-4.0</td>\n",
       "      <td>1014.0</td>\n",
       "      <td>260.0</td>\n",
       "      <td>1.5</td>\n",
       "    </tr>\n",
       "    <tr>\n",
       "      <th>3</th>\n",
       "      <td>789</td>\n",
       "      <td>College Classroom</td>\n",
       "      <td>6000.0</td>\n",
       "      <td>2016-01-01 03:00:00</td>\n",
       "      <td>507.87</td>\n",
       "      <td>Ottawa</td>\n",
       "      <td>-3.0</td>\n",
       "      <td>-3.8</td>\n",
       "      <td>1014.0</td>\n",
       "      <td>260.0</td>\n",
       "      <td>1.5</td>\n",
       "    </tr>\n",
       "    <tr>\n",
       "      <th>4</th>\n",
       "      <td>789</td>\n",
       "      <td>College Classroom</td>\n",
       "      <td>6000.0</td>\n",
       "      <td>2016-01-01 04:00:00</td>\n",
       "      <td>509.45</td>\n",
       "      <td>Ottawa</td>\n",
       "      <td>-3.3</td>\n",
       "      <td>-3.8</td>\n",
       "      <td>1013.5</td>\n",
       "      <td>230.0</td>\n",
       "      <td>1.0</td>\n",
       "    </tr>\n",
       "  </tbody>\n",
       "</table>\n",
       "</div>"
      ],
      "text/plain": [
       "   building_id           subUsage     sqm            timestamp  meter_reading  \\\n",
       "0          789  College Classroom  6000.0  2016-01-01 00:00:00         516.43   \n",
       "1          789  College Classroom  6000.0  2016-01-01 01:00:00         519.40   \n",
       "2          789  College Classroom  6000.0  2016-01-01 02:00:00         501.68   \n",
       "3          789  College Classroom  6000.0  2016-01-01 03:00:00         507.87   \n",
       "4          789  College Classroom  6000.0  2016-01-01 04:00:00         509.45   \n",
       "\n",
       "  site_id  airTemperature  dewTemperature  seaLvlPressure  windDirection  \\\n",
       "0  Ottawa            -2.2            -3.6          1014.5          270.0   \n",
       "1  Ottawa            -2.3            -3.8          1014.5          260.0   \n",
       "2  Ottawa            -2.8            -4.0          1014.0          260.0   \n",
       "3  Ottawa            -3.0            -3.8          1014.0          260.0   \n",
       "4  Ottawa            -3.3            -3.8          1013.5          230.0   \n",
       "\n",
       "   windSpeed  \n",
       "0        2.1  \n",
       "1        2.1  \n",
       "2        1.5  \n",
       "3        1.5  \n",
       "4        1.0  "
      ]
     },
     "execution_count": 177,
     "metadata": {},
     "output_type": "execute_result"
    }
   ],
   "source": [
    "df.head()"
   ]
  },
  {
   "cell_type": "code",
   "execution_count": 178,
   "id": "edf0dabe",
   "metadata": {},
   "outputs": [
    {
     "name": "stdout",
     "output_type": "stream",
     "text": [
      "<class 'pandas.core.frame.DataFrame'>\n",
      "Int64Index: 349756 entries, 0 to 349755\n",
      "Data columns (total 11 columns):\n",
      " #   Column          Non-Null Count   Dtype  \n",
      "---  ------          --------------   -----  \n",
      " 0   building_id     349756 non-null  int64  \n",
      " 1   subUsage        349756 non-null  object \n",
      " 2   sqm             349756 non-null  float64\n",
      " 3   timestamp       349756 non-null  object \n",
      " 4   meter_reading   349756 non-null  float64\n",
      " 5   site_id         349756 non-null  object \n",
      " 6   airTemperature  336171 non-null  float64\n",
      " 7   dewTemperature  335252 non-null  float64\n",
      " 8   seaLvlPressure  335492 non-null  float64\n",
      " 9   windDirection   336171 non-null  float64\n",
      " 10  windSpeed       336171 non-null  float64\n",
      "dtypes: float64(7), int64(1), object(3)\n",
      "memory usage: 32.0+ MB\n"
     ]
    }
   ],
   "source": [
    "df.info()"
   ]
  },
  {
   "cell_type": "code",
   "execution_count": 179,
   "id": "4b911052",
   "metadata": {},
   "outputs": [],
   "source": [
    "# fill airTemperature,dewTemperature,seaLvlPressure, windDirection, windSpeed missing values with interpolation\n",
    "df.airTemperature.interpolate(method='linear', inplace=True)\n",
    "df.dewTemperature.interpolate(method='linear', inplace=True)\n",
    "df.seaLvlPressure.interpolate(method='linear', inplace=True)\n",
    "df.windDirection.interpolate(method='linear', inplace=True)\n",
    "df.windSpeed.interpolate(method='linear', inplace=True)"
   ]
  },
  {
   "cell_type": "code",
   "execution_count": 180,
   "id": "3352d0c3",
   "metadata": {},
   "outputs": [
    {
     "name": "stdout",
     "output_type": "stream",
     "text": [
      "<class 'pandas.core.frame.DataFrame'>\n",
      "Int64Index: 349756 entries, 0 to 349755\n",
      "Data columns (total 11 columns):\n",
      " #   Column          Non-Null Count   Dtype  \n",
      "---  ------          --------------   -----  \n",
      " 0   building_id     349756 non-null  int64  \n",
      " 1   subUsage        349756 non-null  object \n",
      " 2   sqm             349756 non-null  float64\n",
      " 3   timestamp       349756 non-null  object \n",
      " 4   meter_reading   349756 non-null  float64\n",
      " 5   site_id         349756 non-null  object \n",
      " 6   airTemperature  349756 non-null  float64\n",
      " 7   dewTemperature  349756 non-null  float64\n",
      " 8   seaLvlPressure  349756 non-null  float64\n",
      " 9   windDirection   349756 non-null  float64\n",
      " 10  windSpeed       349756 non-null  float64\n",
      "dtypes: float64(7), int64(1), object(3)\n",
      "memory usage: 32.0+ MB\n"
     ]
    }
   ],
   "source": [
    "df.info()"
   ]
  },
  {
   "cell_type": "code",
   "execution_count": 181,
   "id": "833d312f",
   "metadata": {},
   "outputs": [],
   "source": [
    "df = df[df['meter_reading'] != 0]"
   ]
  },
  {
   "cell_type": "code",
   "execution_count": 183,
   "id": "d04d1d63",
   "metadata": {},
   "outputs": [
    {
     "name": "stdout",
     "output_type": "stream",
     "text": [
      "<class 'pandas.core.frame.DataFrame'>\n",
      "Int64Index: 341735 entries, 0 to 348505\n",
      "Data columns (total 11 columns):\n",
      " #   Column          Non-Null Count   Dtype  \n",
      "---  ------          --------------   -----  \n",
      " 0   building_id     341735 non-null  int64  \n",
      " 1   subUsage        341735 non-null  object \n",
      " 2   sqm             341735 non-null  float64\n",
      " 3   timestamp       341735 non-null  object \n",
      " 4   meter_reading   341735 non-null  float64\n",
      " 5   site_id         341735 non-null  object \n",
      " 6   airTemperature  341735 non-null  float64\n",
      " 7   dewTemperature  341735 non-null  float64\n",
      " 8   seaLvlPressure  341735 non-null  float64\n",
      " 9   windDirection   341735 non-null  float64\n",
      " 10  windSpeed       341735 non-null  float64\n",
      "dtypes: float64(7), int64(1), object(3)\n",
      "memory usage: 31.3+ MB\n"
     ]
    }
   ],
   "source": [
    "df.info()"
   ]
  },
  {
   "cell_type": "code",
   "execution_count": 184,
   "id": "49f52687",
   "metadata": {},
   "outputs": [],
   "source": [
    "# Add features - timestamp features\n",
    "df['timestamp'] = pd.to_datetime(df['timestamp'])\n",
    "df['month'] = df.timestamp.dt.month\n",
    "df['weekday'] = df.timestamp.dt.weekday\n",
    "df['hour'] = df.timestamp.dt.hour\n",
    "df['year'] = df.timestamp.dt.year"
   ]
  },
  {
   "cell_type": "code",
   "execution_count": 196,
   "id": "c3102f7c",
   "metadata": {},
   "outputs": [],
   "source": [
    "# function to create a 2016 and 2017 dataframe for the selected building\n",
    "def create_buildingDataframe_year(df, building_id):\n",
    "    df_building = df[df.building_id == building_id]\n",
    "    df_building = df_building.drop(columns=['building_id', 'sqm'])\n",
    "    df_2016 = df_building[df_building.year == 2016]\n",
    "    df_2016.drop(columns=['year'], inplace=True)\n",
    "    df_2017 = df_building[df_building.year == 2017]\n",
    "    df_2017.drop(columns=['year'], inplace=True)\n",
    "    return df_2016, df_2017\n",
    "\n",
    "def create_buildingDataframe_seasons(df, building_id):\n",
    "    "
   ]
  },
  {
   "cell_type": "code",
   "execution_count": 197,
   "id": "6148367c",
   "metadata": {},
   "outputs": [
    {
     "data": {
      "text/plain": [
       "<AxesSubplot:>"
      ]
     },
     "execution_count": 197,
     "metadata": {},
     "output_type": "execute_result"
    },
    {
     "data": {
      "image/png": "[encoded data removed]",
      "text/plain": [
       "<Figure size 1008x1008 with 2 Axes>"
      ]
     },
     "metadata": {},
     "output_type": "display_data"
    }
   ],
   "source": [
    "df_building789_2016, df_building789_2017 = create_buildingDataframe_year(df, 789)\n",
    "\n",
    "sns.set(rc={'figure.figsize':(14,14)})\n",
    "sns.heatmap(df_building789_2016.corr(), cmap=\"coolwarm\", vmin=-1, vmax=1, annot=True)"
   ]
  },
  {
   "cell_type": "code",
   "execution_count": null,
   "id": "e12fbe3a",
   "metadata": {},
   "outputs": [],
   "source": []
  },
  {
   "cell_type": "markdown",
   "id": "9814699a",
   "metadata": {},
   "source": [
    "### 2.2 Feature Selection <a id='2.2'></a>"
   ]
  },
  {
   "cell_type": "code",
   "execution_count": 202,
   "id": "8be60547",
   "metadata": {},
   "outputs": [
    {
     "data": {
      "text/plain": [
       "Index(['subUsage', 'timestamp', 'meter_reading', 'site_id', 'airTemperature',\n",
       "       'dewTemperature', 'seaLvlPressure', 'windDirection', 'windSpeed',\n",
       "       'month', 'weekday', 'hour'],\n",
       "      dtype='object')"
      ]
     },
     "execution_count": 202,
     "metadata": {},
     "output_type": "execute_result"
    }
   ],
   "source": [
    "# selected features\n",
    "df_building789_2016.columns"
   ]
  },
  {
   "cell_type": "code",
   "execution_count": 207,
   "id": "9979f7ad",
   "metadata": {
    "scrolled": true
   },
   "outputs": [],
   "source": [
    "X_columns = ['airTemperature', 'dewTemperature', 'seaLvlPressure', 'windDirection',\n",
    "          'windSpeed', 'month', 'weekday', 'hour']\n",
    "X = df_building789_2016[X_columns]\n",
    "y = df_building789_2016['meter_reading']\n"
   ]
  },
  {
   "cell_type": "code",
   "execution_count": 208,
   "id": "9f67c758",
   "metadata": {},
   "outputs": [
    {
     "data": {
      "text/plain": [
       "(8524, 8)"
      ]
     },
     "execution_count": 208,
     "metadata": {},
     "output_type": "execute_result"
    }
   ],
   "source": [
    "X.shape"
   ]
  },
  {
   "cell_type": "code",
   "execution_count": 221,
   "id": "b122e5b0",
   "metadata": {},
   "outputs": [],
   "source": [
    "# function to get 2017 data to input into ML model\n",
    "def get_2017data(df, x_columns, y_columns):\n",
    "    X_2017 = df[x_columns]\n",
    "    y_2017 = df[y_columns]\n",
    "    return X_2017, y_2017"
   ]
  },
  {
   "cell_type": "markdown",
   "id": "e01d3af4",
   "metadata": {},
   "source": [
    "### 2.3 Data Splitting <a id='2.3'></a>"
   ]
  },
  {
   "cell_type": "code",
   "execution_count": 209,
   "id": "79caa90c",
   "metadata": {},
   "outputs": [],
   "source": [
    "# split data\n",
    "X_train, X_test, y_train, y_test = train_test_split(X, y, test_size = 0.3, random_state = 246)"
   ]
  },
  {
   "cell_type": "code",
   "execution_count": 210,
   "id": "09672f5d",
   "metadata": {},
   "outputs": [],
   "source": [
    "RF_pipe = make_pipeline(\n",
    "    SimpleImputer(strategy='median'),\n",
    "    StandardScaler(),\n",
    "    RandomForestRegressor(random_state=47)\n",
    ")"
   ]
  },
  {
   "cell_type": "code",
   "execution_count": 211,
   "id": "0498d368",
   "metadata": {},
   "outputs": [
    {
     "data": {
      "text/plain": [
       "{'randomforestregressor__n_estimators': [10,\n",
       "  12,\n",
       "  16,\n",
       "  20,\n",
       "  26,\n",
       "  33,\n",
       "  42,\n",
       "  54,\n",
       "  69,\n",
       "  88,\n",
       "  112,\n",
       "  143,\n",
       "  183,\n",
       "  233,\n",
       "  297,\n",
       "  379,\n",
       "  483,\n",
       "  615,\n",
       "  784,\n",
       "  1000],\n",
       " 'standardscaler': [StandardScaler(), None],\n",
       " 'simpleimputer__strategy': ['mean', 'median']}"
      ]
     },
     "execution_count": 211,
     "metadata": {},
     "output_type": "execute_result"
    }
   ],
   "source": [
    "n_est = [int(n) for n in np.logspace(start=1, stop=3, num=20)]\n",
    "grid_params = {\n",
    "        'randomforestregressor__n_estimators': n_est,\n",
    "        'standardscaler': [StandardScaler(), None],\n",
    "        'simpleimputer__strategy': ['mean', 'median']\n",
    "}\n",
    "grid_params"
   ]
  },
  {
   "cell_type": "code",
   "execution_count": 212,
   "id": "aa0e6ab8",
   "metadata": {},
   "outputs": [],
   "source": [
    "rf_grid_cv = GridSearchCV(RF_pipe, param_grid=grid_params, cv=5, n_jobs=-1)"
   ]
  },
  {
   "cell_type": "code",
   "execution_count": 213,
   "id": "49594fa5",
   "metadata": {},
   "outputs": [
    {
     "name": "stderr",
     "output_type": "stream",
     "text": [
      "/Users/delinmu/opt/anaconda3/lib/python3.9/site-packages/joblib/externals/loky/process_executor.py:702: UserWarning: A worker stopped while some jobs were given to the executor. This can be caused by a too short worker timeout or by a memory leak.\n",
      "  warnings.warn(\n"
     ]
    },
    {
     "data": {
      "text/plain": [
       "GridSearchCV(cv=5,\n",
       "             estimator=Pipeline(steps=[('simpleimputer',\n",
       "                                        SimpleImputer(strategy='median')),\n",
       "                                       ('standardscaler', StandardScaler()),\n",
       "                                       ('randomforestregressor',\n",
       "                                        RandomForestRegressor(random_state=47))]),\n",
       "             n_jobs=-1,\n",
       "             param_grid={'randomforestregressor__n_estimators': [10, 12, 16, 20,\n",
       "                                                                 26, 33, 42, 54,\n",
       "                                                                 69, 88, 112,\n",
       "                                                                 143, 183, 233,\n",
       "                                                                 297, 379, 483,\n",
       "                                                                 615, 784,\n",
       "                                                                 1000],\n",
       "                         'simpleimputer__strategy': ['mean', 'median'],\n",
       "                         'standardscaler': [StandardScaler(), None]})"
      ]
     },
     "execution_count": 213,
     "metadata": {},
     "output_type": "execute_result"
    }
   ],
   "source": [
    "rf_grid_cv.fit(X_train, y_train)"
   ]
  },
  {
   "cell_type": "code",
   "execution_count": 214,
   "id": "31fdd746",
   "metadata": {},
   "outputs": [
    {
     "data": {
      "text/plain": [
       "{'randomforestregressor__n_estimators': 615,\n",
       " 'simpleimputer__strategy': 'mean',\n",
       " 'standardscaler': StandardScaler()}"
      ]
     },
     "execution_count": 214,
     "metadata": {},
     "output_type": "execute_result"
    }
   ],
   "source": [
    "rf_grid_cv.best_params_"
   ]
  },
  {
   "cell_type": "code",
   "execution_count": 216,
   "id": "2543b683",
   "metadata": {},
   "outputs": [
    {
     "data": {
      "text/plain": [
       "(25.754860055107862, 0.5328831595742123)"
      ]
     },
     "execution_count": 216,
     "metadata": {},
     "output_type": "execute_result"
    }
   ],
   "source": [
    "rf_neg_mae = cross_validate(rf_grid_cv.best_estimator_, X_train, y_train, \n",
    "                            scoring='neg_mean_absolute_error', cv=5, n_jobs=-1)\n",
    "rf_mae_mean = np.mean(-1 * rf_neg_mae['test_score'])\n",
    "rf_mae_std = np.std(-1 * rf_neg_mae['test_score'])\n",
    "rf_mae_mean, rf_mae_std"
   ]
  },
  {
   "cell_type": "code",
   "execution_count": 218,
   "id": "564663a8",
   "metadata": {},
   "outputs": [
    {
     "data": {
      "text/plain": [
       "0.9558952830929472"
      ]
     },
     "execution_count": 218,
     "metadata": {},
     "output_type": "execute_result"
    }
   ],
   "source": [
    "r2_score(y_test, rf_grid_cv.best_estimator_.predict(X_test))"
   ]
  },
  {
   "cell_type": "code",
   "execution_count": 225,
   "id": "0bfe5128",
   "metadata": {},
   "outputs": [
    {
     "data": {
      "text/plain": [
       "0.7516760499353043"
      ]
     },
     "execution_count": 225,
     "metadata": {},
     "output_type": "execute_result"
    }
   ],
   "source": [
    "X_2017, y_2017 = get_2017data(df_building789_2017, X_columns, 'meter_reading')\n",
    "r2_score(y_2017, rf_grid_cv.best_estimator_.predict(X_2017))"
   ]
  },
  {
   "cell_type": "code",
   "execution_count": null,
   "id": "140c337c",
   "metadata": {},
   "outputs": [],
   "source": []
  }
 ],
 "metadata": {
  "kernelspec": {
   "display_name": "Python 3 (ipykernel)",
   "language": "python",
   "name": "python3"
  },
  "language_info": {
   "codemirror_mode": {
    "name": "ipython",
    "version": 3
   },
   "file_extension": ".py",
   "mimetype": "text/x-python",
   "name": "python",
   "nbconvert_exporter": "python",
   "pygments_lexer": "ipython3",
   "version": "3.9.7"
  }
 },
 "nbformat": 4,
 "nbformat_minor": 5
}
